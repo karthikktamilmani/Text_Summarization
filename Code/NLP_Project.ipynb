{
  "nbformat": 4,
  "nbformat_minor": 0,
  "metadata": {
    "colab": {
      "name": "NLP Project",
      "provenance": [],
      "collapsed_sections": [],
      "machine_shape": "hm"
    },
    "kernelspec": {
      "name": "python3",
      "display_name": "Python 3"
    },
    "accelerator": "GPU",
    "widgets": {
      "application/vnd.jupyter.widget-state+json": {
        "00926c2fe43149d48c739d4ba0758a29": {
          "model_module": "@jupyter-widgets/controls",
          "model_name": "HBoxModel",
          "state": {
            "_view_name": "HBoxView",
            "_dom_classes": [],
            "_model_name": "HBoxModel",
            "_view_module": "@jupyter-widgets/controls",
            "_model_module_version": "1.5.0",
            "_view_count": null,
            "_view_module_version": "1.5.0",
            "box_style": "",
            "layout": "IPY_MODEL_e3b1b98b7a244ff18a80f138f049de13",
            "_model_module": "@jupyter-widgets/controls",
            "children": [
              "IPY_MODEL_cba8a4168ac34804a81a4b4c342dea81",
              "IPY_MODEL_eafec5e2e0b34445bae1e8fb6af2c8e8"
            ]
          }
        },
        "e3b1b98b7a244ff18a80f138f049de13": {
          "model_module": "@jupyter-widgets/base",
          "model_name": "LayoutModel",
          "state": {
            "_view_name": "LayoutView",
            "grid_template_rows": null,
            "right": null,
            "justify_content": null,
            "_view_module": "@jupyter-widgets/base",
            "overflow": null,
            "_model_module_version": "1.2.0",
            "_view_count": null,
            "flex_flow": null,
            "width": null,
            "min_width": null,
            "border": null,
            "align_items": null,
            "bottom": null,
            "_model_module": "@jupyter-widgets/base",
            "top": null,
            "grid_column": null,
            "overflow_y": null,
            "overflow_x": null,
            "grid_auto_flow": null,
            "grid_area": null,
            "grid_template_columns": null,
            "flex": null,
            "_model_name": "LayoutModel",
            "justify_items": null,
            "grid_row": null,
            "max_height": null,
            "align_content": null,
            "visibility": null,
            "align_self": null,
            "height": null,
            "min_height": null,
            "padding": null,
            "grid_auto_rows": null,
            "grid_gap": null,
            "max_width": null,
            "order": null,
            "_view_module_version": "1.2.0",
            "grid_template_areas": null,
            "object_position": null,
            "object_fit": null,
            "grid_auto_columns": null,
            "margin": null,
            "display": null,
            "left": null
          }
        },
        "cba8a4168ac34804a81a4b4c342dea81": {
          "model_module": "@jupyter-widgets/controls",
          "model_name": "IntProgressModel",
          "state": {
            "_view_name": "ProgressView",
            "style": "IPY_MODEL_19836a451048419baae1ecb5bdf176a3",
            "_dom_classes": [],
            "description": "100%",
            "_model_name": "IntProgressModel",
            "bar_style": "success",
            "max": 2225,
            "_view_module": "@jupyter-widgets/controls",
            "_model_module_version": "1.5.0",
            "value": 2225,
            "_view_count": null,
            "_view_module_version": "1.5.0",
            "orientation": "horizontal",
            "min": 0,
            "description_tooltip": null,
            "_model_module": "@jupyter-widgets/controls",
            "layout": "IPY_MODEL_41ed651680754fe196cce7d90cb7f789"
          }
        },
        "eafec5e2e0b34445bae1e8fb6af2c8e8": {
          "model_module": "@jupyter-widgets/controls",
          "model_name": "HTMLModel",
          "state": {
            "_view_name": "HTMLView",
            "style": "IPY_MODEL_1c5584146d4a48e8b1b08d5231ac1ba4",
            "_dom_classes": [],
            "description": "",
            "_model_name": "HTMLModel",
            "placeholder": "​",
            "_view_module": "@jupyter-widgets/controls",
            "_model_module_version": "1.5.0",
            "value": " 2225/2225 [00:20&lt;00:00, 111.11it/s]",
            "_view_count": null,
            "_view_module_version": "1.5.0",
            "description_tooltip": null,
            "_model_module": "@jupyter-widgets/controls",
            "layout": "IPY_MODEL_2cd39e15724f4e02af1798136bbb6b13"
          }
        },
        "19836a451048419baae1ecb5bdf176a3": {
          "model_module": "@jupyter-widgets/controls",
          "model_name": "ProgressStyleModel",
          "state": {
            "_view_name": "StyleView",
            "_model_name": "ProgressStyleModel",
            "description_width": "initial",
            "_view_module": "@jupyter-widgets/base",
            "_model_module_version": "1.5.0",
            "_view_count": null,
            "_view_module_version": "1.2.0",
            "bar_color": null,
            "_model_module": "@jupyter-widgets/controls"
          }
        },
        "41ed651680754fe196cce7d90cb7f789": {
          "model_module": "@jupyter-widgets/base",
          "model_name": "LayoutModel",
          "state": {
            "_view_name": "LayoutView",
            "grid_template_rows": null,
            "right": null,
            "justify_content": null,
            "_view_module": "@jupyter-widgets/base",
            "overflow": null,
            "_model_module_version": "1.2.0",
            "_view_count": null,
            "flex_flow": null,
            "width": null,
            "min_width": null,
            "border": null,
            "align_items": null,
            "bottom": null,
            "_model_module": "@jupyter-widgets/base",
            "top": null,
            "grid_column": null,
            "overflow_y": null,
            "overflow_x": null,
            "grid_auto_flow": null,
            "grid_area": null,
            "grid_template_columns": null,
            "flex": null,
            "_model_name": "LayoutModel",
            "justify_items": null,
            "grid_row": null,
            "max_height": null,
            "align_content": null,
            "visibility": null,
            "align_self": null,
            "height": null,
            "min_height": null,
            "padding": null,
            "grid_auto_rows": null,
            "grid_gap": null,
            "max_width": null,
            "order": null,
            "_view_module_version": "1.2.0",
            "grid_template_areas": null,
            "object_position": null,
            "object_fit": null,
            "grid_auto_columns": null,
            "margin": null,
            "display": null,
            "left": null
          }
        },
        "1c5584146d4a48e8b1b08d5231ac1ba4": {
          "model_module": "@jupyter-widgets/controls",
          "model_name": "DescriptionStyleModel",
          "state": {
            "_view_name": "StyleView",
            "_model_name": "DescriptionStyleModel",
            "description_width": "",
            "_view_module": "@jupyter-widgets/base",
            "_model_module_version": "1.5.0",
            "_view_count": null,
            "_view_module_version": "1.2.0",
            "_model_module": "@jupyter-widgets/controls"
          }
        },
        "2cd39e15724f4e02af1798136bbb6b13": {
          "model_module": "@jupyter-widgets/base",
          "model_name": "LayoutModel",
          "state": {
            "_view_name": "LayoutView",
            "grid_template_rows": null,
            "right": null,
            "justify_content": null,
            "_view_module": "@jupyter-widgets/base",
            "overflow": null,
            "_model_module_version": "1.2.0",
            "_view_count": null,
            "flex_flow": null,
            "width": null,
            "min_width": null,
            "border": null,
            "align_items": null,
            "bottom": null,
            "_model_module": "@jupyter-widgets/base",
            "top": null,
            "grid_column": null,
            "overflow_y": null,
            "overflow_x": null,
            "grid_auto_flow": null,
            "grid_area": null,
            "grid_template_columns": null,
            "flex": null,
            "_model_name": "LayoutModel",
            "justify_items": null,
            "grid_row": null,
            "max_height": null,
            "align_content": null,
            "visibility": null,
            "align_self": null,
            "height": null,
            "min_height": null,
            "padding": null,
            "grid_auto_rows": null,
            "grid_gap": null,
            "max_width": null,
            "order": null,
            "_view_module_version": "1.2.0",
            "grid_template_areas": null,
            "object_position": null,
            "object_fit": null,
            "grid_auto_columns": null,
            "margin": null,
            "display": null,
            "left": null
          }
        },
        "5936e3c329c2448d8cea1122ac9ef828": {
          "model_module": "@jupyter-widgets/controls",
          "model_name": "HBoxModel",
          "state": {
            "_view_name": "HBoxView",
            "_dom_classes": [],
            "_model_name": "HBoxModel",
            "_view_module": "@jupyter-widgets/controls",
            "_model_module_version": "1.5.0",
            "_view_count": null,
            "_view_module_version": "1.5.0",
            "box_style": "",
            "layout": "IPY_MODEL_d5728c224413427eaac044fea94e57c6",
            "_model_module": "@jupyter-widgets/controls",
            "children": [
              "IPY_MODEL_09feca13035b48b1960286a8c2820e97",
              "IPY_MODEL_695d3a5a143b446b9a65bb3e7a60ef42"
            ]
          }
        },
        "d5728c224413427eaac044fea94e57c6": {
          "model_module": "@jupyter-widgets/base",
          "model_name": "LayoutModel",
          "state": {
            "_view_name": "LayoutView",
            "grid_template_rows": null,
            "right": null,
            "justify_content": null,
            "_view_module": "@jupyter-widgets/base",
            "overflow": null,
            "_model_module_version": "1.2.0",
            "_view_count": null,
            "flex_flow": null,
            "width": null,
            "min_width": null,
            "border": null,
            "align_items": null,
            "bottom": null,
            "_model_module": "@jupyter-widgets/base",
            "top": null,
            "grid_column": null,
            "overflow_y": null,
            "overflow_x": null,
            "grid_auto_flow": null,
            "grid_area": null,
            "grid_template_columns": null,
            "flex": null,
            "_model_name": "LayoutModel",
            "justify_items": null,
            "grid_row": null,
            "max_height": null,
            "align_content": null,
            "visibility": null,
            "align_self": null,
            "height": null,
            "min_height": null,
            "padding": null,
            "grid_auto_rows": null,
            "grid_gap": null,
            "max_width": null,
            "order": null,
            "_view_module_version": "1.2.0",
            "grid_template_areas": null,
            "object_position": null,
            "object_fit": null,
            "grid_auto_columns": null,
            "margin": null,
            "display": null,
            "left": null
          }
        },
        "09feca13035b48b1960286a8c2820e97": {
          "model_module": "@jupyter-widgets/controls",
          "model_name": "IntProgressModel",
          "state": {
            "_view_name": "ProgressView",
            "style": "IPY_MODEL_c12cdac012cc478c8f6c8068b6b48e88",
            "_dom_classes": [],
            "description": "100%",
            "_model_name": "IntProgressModel",
            "bar_style": "success",
            "max": 2225,
            "_view_module": "@jupyter-widgets/controls",
            "_model_module_version": "1.5.0",
            "value": 2225,
            "_view_count": null,
            "_view_module_version": "1.5.0",
            "orientation": "horizontal",
            "min": 0,
            "description_tooltip": null,
            "_model_module": "@jupyter-widgets/controls",
            "layout": "IPY_MODEL_748e70d9fd94407db6b55fd37c426ddc"
          }
        },
        "695d3a5a143b446b9a65bb3e7a60ef42": {
          "model_module": "@jupyter-widgets/controls",
          "model_name": "HTMLModel",
          "state": {
            "_view_name": "HTMLView",
            "style": "IPY_MODEL_3fa0d3c33d2845ccabf28702741ccd45",
            "_dom_classes": [],
            "description": "",
            "_model_name": "HTMLModel",
            "placeholder": "​",
            "_view_module": "@jupyter-widgets/controls",
            "_model_module_version": "1.5.0",
            "value": " 2225/2225 [00:54&lt;00:00, 40.76it/s]",
            "_view_count": null,
            "_view_module_version": "1.5.0",
            "description_tooltip": null,
            "_model_module": "@jupyter-widgets/controls",
            "layout": "IPY_MODEL_f084e4fbfdd245f3b6fe0f03a0ec9ce6"
          }
        },
        "c12cdac012cc478c8f6c8068b6b48e88": {
          "model_module": "@jupyter-widgets/controls",
          "model_name": "ProgressStyleModel",
          "state": {
            "_view_name": "StyleView",
            "_model_name": "ProgressStyleModel",
            "description_width": "initial",
            "_view_module": "@jupyter-widgets/base",
            "_model_module_version": "1.5.0",
            "_view_count": null,
            "_view_module_version": "1.2.0",
            "bar_color": null,
            "_model_module": "@jupyter-widgets/controls"
          }
        },
        "748e70d9fd94407db6b55fd37c426ddc": {
          "model_module": "@jupyter-widgets/base",
          "model_name": "LayoutModel",
          "state": {
            "_view_name": "LayoutView",
            "grid_template_rows": null,
            "right": null,
            "justify_content": null,
            "_view_module": "@jupyter-widgets/base",
            "overflow": null,
            "_model_module_version": "1.2.0",
            "_view_count": null,
            "flex_flow": null,
            "width": null,
            "min_width": null,
            "border": null,
            "align_items": null,
            "bottom": null,
            "_model_module": "@jupyter-widgets/base",
            "top": null,
            "grid_column": null,
            "overflow_y": null,
            "overflow_x": null,
            "grid_auto_flow": null,
            "grid_area": null,
            "grid_template_columns": null,
            "flex": null,
            "_model_name": "LayoutModel",
            "justify_items": null,
            "grid_row": null,
            "max_height": null,
            "align_content": null,
            "visibility": null,
            "align_self": null,
            "height": null,
            "min_height": null,
            "padding": null,
            "grid_auto_rows": null,
            "grid_gap": null,
            "max_width": null,
            "order": null,
            "_view_module_version": "1.2.0",
            "grid_template_areas": null,
            "object_position": null,
            "object_fit": null,
            "grid_auto_columns": null,
            "margin": null,
            "display": null,
            "left": null
          }
        },
        "3fa0d3c33d2845ccabf28702741ccd45": {
          "model_module": "@jupyter-widgets/controls",
          "model_name": "DescriptionStyleModel",
          "state": {
            "_view_name": "StyleView",
            "_model_name": "DescriptionStyleModel",
            "description_width": "",
            "_view_module": "@jupyter-widgets/base",
            "_model_module_version": "1.5.0",
            "_view_count": null,
            "_view_module_version": "1.2.0",
            "_model_module": "@jupyter-widgets/controls"
          }
        },
        "f084e4fbfdd245f3b6fe0f03a0ec9ce6": {
          "model_module": "@jupyter-widgets/base",
          "model_name": "LayoutModel",
          "state": {
            "_view_name": "LayoutView",
            "grid_template_rows": null,
            "right": null,
            "justify_content": null,
            "_view_module": "@jupyter-widgets/base",
            "overflow": null,
            "_model_module_version": "1.2.0",
            "_view_count": null,
            "flex_flow": null,
            "width": null,
            "min_width": null,
            "border": null,
            "align_items": null,
            "bottom": null,
            "_model_module": "@jupyter-widgets/base",
            "top": null,
            "grid_column": null,
            "overflow_y": null,
            "overflow_x": null,
            "grid_auto_flow": null,
            "grid_area": null,
            "grid_template_columns": null,
            "flex": null,
            "_model_name": "LayoutModel",
            "justify_items": null,
            "grid_row": null,
            "max_height": null,
            "align_content": null,
            "visibility": null,
            "align_self": null,
            "height": null,
            "min_height": null,
            "padding": null,
            "grid_auto_rows": null,
            "grid_gap": null,
            "max_width": null,
            "order": null,
            "_view_module_version": "1.2.0",
            "grid_template_areas": null,
            "object_position": null,
            "object_fit": null,
            "grid_auto_columns": null,
            "margin": null,
            "display": null,
            "left": null
          }
        },
        "a4ba7bd5c8644b6fb3773c5bd8dc5e72": {
          "model_module": "@jupyter-widgets/controls",
          "model_name": "HBoxModel",
          "state": {
            "_view_name": "HBoxView",
            "_dom_classes": [],
            "_model_name": "HBoxModel",
            "_view_module": "@jupyter-widgets/controls",
            "_model_module_version": "1.5.0",
            "_view_count": null,
            "_view_module_version": "1.5.0",
            "box_style": "",
            "layout": "IPY_MODEL_557b106389294169bee6203387c650da",
            "_model_module": "@jupyter-widgets/controls",
            "children": [
              "IPY_MODEL_1e7b60f4d6fb46a5986db87fcb311728",
              "IPY_MODEL_10088d8fb1d542c9b32dca13f0acf766"
            ]
          }
        },
        "557b106389294169bee6203387c650da": {
          "model_module": "@jupyter-widgets/base",
          "model_name": "LayoutModel",
          "state": {
            "_view_name": "LayoutView",
            "grid_template_rows": null,
            "right": null,
            "justify_content": null,
            "_view_module": "@jupyter-widgets/base",
            "overflow": null,
            "_model_module_version": "1.2.0",
            "_view_count": null,
            "flex_flow": null,
            "width": null,
            "min_width": null,
            "border": null,
            "align_items": null,
            "bottom": null,
            "_model_module": "@jupyter-widgets/base",
            "top": null,
            "grid_column": null,
            "overflow_y": null,
            "overflow_x": null,
            "grid_auto_flow": null,
            "grid_area": null,
            "grid_template_columns": null,
            "flex": null,
            "_model_name": "LayoutModel",
            "justify_items": null,
            "grid_row": null,
            "max_height": null,
            "align_content": null,
            "visibility": null,
            "align_self": null,
            "height": null,
            "min_height": null,
            "padding": null,
            "grid_auto_rows": null,
            "grid_gap": null,
            "max_width": null,
            "order": null,
            "_view_module_version": "1.2.0",
            "grid_template_areas": null,
            "object_position": null,
            "object_fit": null,
            "grid_auto_columns": null,
            "margin": null,
            "display": null,
            "left": null
          }
        },
        "1e7b60f4d6fb46a5986db87fcb311728": {
          "model_module": "@jupyter-widgets/controls",
          "model_name": "IntProgressModel",
          "state": {
            "_view_name": "ProgressView",
            "style": "IPY_MODEL_bd7e18bf1e9b4b4381c4313acb0f89ae",
            "_dom_classes": [],
            "description": "100%",
            "_model_name": "IntProgressModel",
            "bar_style": "success",
            "max": 2225,
            "_view_module": "@jupyter-widgets/controls",
            "_model_module_version": "1.5.0",
            "value": 2225,
            "_view_count": null,
            "_view_module_version": "1.5.0",
            "orientation": "horizontal",
            "min": 0,
            "description_tooltip": null,
            "_model_module": "@jupyter-widgets/controls",
            "layout": "IPY_MODEL_3686084aad1b4c66abdc3d4ce38864fe"
          }
        },
        "10088d8fb1d542c9b32dca13f0acf766": {
          "model_module": "@jupyter-widgets/controls",
          "model_name": "HTMLModel",
          "state": {
            "_view_name": "HTMLView",
            "style": "IPY_MODEL_7205dded670240b59d48ae5bcf9daa57",
            "_dom_classes": [],
            "description": "",
            "_model_name": "HTMLModel",
            "placeholder": "​",
            "_view_module": "@jupyter-widgets/controls",
            "_model_module_version": "1.5.0",
            "value": " 2225/2225 [10:05&lt;00:00,  3.68it/s]",
            "_view_count": null,
            "_view_module_version": "1.5.0",
            "description_tooltip": null,
            "_model_module": "@jupyter-widgets/controls",
            "layout": "IPY_MODEL_f1282be5952a4df5b113ad3029ecf317"
          }
        },
        "bd7e18bf1e9b4b4381c4313acb0f89ae": {
          "model_module": "@jupyter-widgets/controls",
          "model_name": "ProgressStyleModel",
          "state": {
            "_view_name": "StyleView",
            "_model_name": "ProgressStyleModel",
            "description_width": "initial",
            "_view_module": "@jupyter-widgets/base",
            "_model_module_version": "1.5.0",
            "_view_count": null,
            "_view_module_version": "1.2.0",
            "bar_color": null,
            "_model_module": "@jupyter-widgets/controls"
          }
        },
        "3686084aad1b4c66abdc3d4ce38864fe": {
          "model_module": "@jupyter-widgets/base",
          "model_name": "LayoutModel",
          "state": {
            "_view_name": "LayoutView",
            "grid_template_rows": null,
            "right": null,
            "justify_content": null,
            "_view_module": "@jupyter-widgets/base",
            "overflow": null,
            "_model_module_version": "1.2.0",
            "_view_count": null,
            "flex_flow": null,
            "width": null,
            "min_width": null,
            "border": null,
            "align_items": null,
            "bottom": null,
            "_model_module": "@jupyter-widgets/base",
            "top": null,
            "grid_column": null,
            "overflow_y": null,
            "overflow_x": null,
            "grid_auto_flow": null,
            "grid_area": null,
            "grid_template_columns": null,
            "flex": null,
            "_model_name": "LayoutModel",
            "justify_items": null,
            "grid_row": null,
            "max_height": null,
            "align_content": null,
            "visibility": null,
            "align_self": null,
            "height": null,
            "min_height": null,
            "padding": null,
            "grid_auto_rows": null,
            "grid_gap": null,
            "max_width": null,
            "order": null,
            "_view_module_version": "1.2.0",
            "grid_template_areas": null,
            "object_position": null,
            "object_fit": null,
            "grid_auto_columns": null,
            "margin": null,
            "display": null,
            "left": null
          }
        },
        "7205dded670240b59d48ae5bcf9daa57": {
          "model_module": "@jupyter-widgets/controls",
          "model_name": "DescriptionStyleModel",
          "state": {
            "_view_name": "StyleView",
            "_model_name": "DescriptionStyleModel",
            "description_width": "",
            "_view_module": "@jupyter-widgets/base",
            "_model_module_version": "1.5.0",
            "_view_count": null,
            "_view_module_version": "1.2.0",
            "_model_module": "@jupyter-widgets/controls"
          }
        },
        "f1282be5952a4df5b113ad3029ecf317": {
          "model_module": "@jupyter-widgets/base",
          "model_name": "LayoutModel",
          "state": {
            "_view_name": "LayoutView",
            "grid_template_rows": null,
            "right": null,
            "justify_content": null,
            "_view_module": "@jupyter-widgets/base",
            "overflow": null,
            "_model_module_version": "1.2.0",
            "_view_count": null,
            "flex_flow": null,
            "width": null,
            "min_width": null,
            "border": null,
            "align_items": null,
            "bottom": null,
            "_model_module": "@jupyter-widgets/base",
            "top": null,
            "grid_column": null,
            "overflow_y": null,
            "overflow_x": null,
            "grid_auto_flow": null,
            "grid_area": null,
            "grid_template_columns": null,
            "flex": null,
            "_model_name": "LayoutModel",
            "justify_items": null,
            "grid_row": null,
            "max_height": null,
            "align_content": null,
            "visibility": null,
            "align_self": null,
            "height": null,
            "min_height": null,
            "padding": null,
            "grid_auto_rows": null,
            "grid_gap": null,
            "max_width": null,
            "order": null,
            "_view_module_version": "1.2.0",
            "grid_template_areas": null,
            "object_position": null,
            "object_fit": null,
            "grid_auto_columns": null,
            "margin": null,
            "display": null,
            "left": null
          }
        },
        "c9e496fa93834c28a7c6a416e63f9cfc": {
          "model_module": "@jupyter-widgets/controls",
          "model_name": "HBoxModel",
          "state": {
            "_view_name": "HBoxView",
            "_dom_classes": [],
            "_model_name": "HBoxModel",
            "_view_module": "@jupyter-widgets/controls",
            "_model_module_version": "1.5.0",
            "_view_count": null,
            "_view_module_version": "1.5.0",
            "box_style": "",
            "layout": "IPY_MODEL_4792a2fa0cbd43a8b21dee2f604078c2",
            "_model_module": "@jupyter-widgets/controls",
            "children": [
              "IPY_MODEL_42c200060927484aba246a946dbac0c5",
              "IPY_MODEL_3636f49445894e9e849306d3a4341bb5"
            ]
          }
        },
        "4792a2fa0cbd43a8b21dee2f604078c2": {
          "model_module": "@jupyter-widgets/base",
          "model_name": "LayoutModel",
          "state": {
            "_view_name": "LayoutView",
            "grid_template_rows": null,
            "right": null,
            "justify_content": null,
            "_view_module": "@jupyter-widgets/base",
            "overflow": null,
            "_model_module_version": "1.2.0",
            "_view_count": null,
            "flex_flow": null,
            "width": null,
            "min_width": null,
            "border": null,
            "align_items": null,
            "bottom": null,
            "_model_module": "@jupyter-widgets/base",
            "top": null,
            "grid_column": null,
            "overflow_y": null,
            "overflow_x": null,
            "grid_auto_flow": null,
            "grid_area": null,
            "grid_template_columns": null,
            "flex": null,
            "_model_name": "LayoutModel",
            "justify_items": null,
            "grid_row": null,
            "max_height": null,
            "align_content": null,
            "visibility": null,
            "align_self": null,
            "height": null,
            "min_height": null,
            "padding": null,
            "grid_auto_rows": null,
            "grid_gap": null,
            "max_width": null,
            "order": null,
            "_view_module_version": "1.2.0",
            "grid_template_areas": null,
            "object_position": null,
            "object_fit": null,
            "grid_auto_columns": null,
            "margin": null,
            "display": null,
            "left": null
          }
        },
        "42c200060927484aba246a946dbac0c5": {
          "model_module": "@jupyter-widgets/controls",
          "model_name": "IntProgressModel",
          "state": {
            "_view_name": "ProgressView",
            "style": "IPY_MODEL_b21da5bcab7443ecb433d19ad1c1b9e8",
            "_dom_classes": [],
            "description": "100%",
            "_model_name": "IntProgressModel",
            "bar_style": "success",
            "max": 2225,
            "_view_module": "@jupyter-widgets/controls",
            "_model_module_version": "1.5.0",
            "value": 2225,
            "_view_count": null,
            "_view_module_version": "1.5.0",
            "orientation": "horizontal",
            "min": 0,
            "description_tooltip": null,
            "_model_module": "@jupyter-widgets/controls",
            "layout": "IPY_MODEL_340c8916f575444e82d7a6ed05a13e98"
          }
        },
        "3636f49445894e9e849306d3a4341bb5": {
          "model_module": "@jupyter-widgets/controls",
          "model_name": "HTMLModel",
          "state": {
            "_view_name": "HTMLView",
            "style": "IPY_MODEL_d3c9e438b034465d91aafd5ae7f5f1e9",
            "_dom_classes": [],
            "description": "",
            "_model_name": "HTMLModel",
            "placeholder": "​",
            "_view_module": "@jupyter-widgets/controls",
            "_model_module_version": "1.5.0",
            "value": " 2225/2225 [01:39&lt;00:00, 22.27it/s]",
            "_view_count": null,
            "_view_module_version": "1.5.0",
            "description_tooltip": null,
            "_model_module": "@jupyter-widgets/controls",
            "layout": "IPY_MODEL_9816fd88cad14074905e9e8f746a671a"
          }
        },
        "b21da5bcab7443ecb433d19ad1c1b9e8": {
          "model_module": "@jupyter-widgets/controls",
          "model_name": "ProgressStyleModel",
          "state": {
            "_view_name": "StyleView",
            "_model_name": "ProgressStyleModel",
            "description_width": "initial",
            "_view_module": "@jupyter-widgets/base",
            "_model_module_version": "1.5.0",
            "_view_count": null,
            "_view_module_version": "1.2.0",
            "bar_color": null,
            "_model_module": "@jupyter-widgets/controls"
          }
        },
        "340c8916f575444e82d7a6ed05a13e98": {
          "model_module": "@jupyter-widgets/base",
          "model_name": "LayoutModel",
          "state": {
            "_view_name": "LayoutView",
            "grid_template_rows": null,
            "right": null,
            "justify_content": null,
            "_view_module": "@jupyter-widgets/base",
            "overflow": null,
            "_model_module_version": "1.2.0",
            "_view_count": null,
            "flex_flow": null,
            "width": null,
            "min_width": null,
            "border": null,
            "align_items": null,
            "bottom": null,
            "_model_module": "@jupyter-widgets/base",
            "top": null,
            "grid_column": null,
            "overflow_y": null,
            "overflow_x": null,
            "grid_auto_flow": null,
            "grid_area": null,
            "grid_template_columns": null,
            "flex": null,
            "_model_name": "LayoutModel",
            "justify_items": null,
            "grid_row": null,
            "max_height": null,
            "align_content": null,
            "visibility": null,
            "align_self": null,
            "height": null,
            "min_height": null,
            "padding": null,
            "grid_auto_rows": null,
            "grid_gap": null,
            "max_width": null,
            "order": null,
            "_view_module_version": "1.2.0",
            "grid_template_areas": null,
            "object_position": null,
            "object_fit": null,
            "grid_auto_columns": null,
            "margin": null,
            "display": null,
            "left": null
          }
        },
        "d3c9e438b034465d91aafd5ae7f5f1e9": {
          "model_module": "@jupyter-widgets/controls",
          "model_name": "DescriptionStyleModel",
          "state": {
            "_view_name": "StyleView",
            "_model_name": "DescriptionStyleModel",
            "description_width": "",
            "_view_module": "@jupyter-widgets/base",
            "_model_module_version": "1.5.0",
            "_view_count": null,
            "_view_module_version": "1.2.0",
            "_model_module": "@jupyter-widgets/controls"
          }
        },
        "9816fd88cad14074905e9e8f746a671a": {
          "model_module": "@jupyter-widgets/base",
          "model_name": "LayoutModel",
          "state": {
            "_view_name": "LayoutView",
            "grid_template_rows": null,
            "right": null,
            "justify_content": null,
            "_view_module": "@jupyter-widgets/base",
            "overflow": null,
            "_model_module_version": "1.2.0",
            "_view_count": null,
            "flex_flow": null,
            "width": null,
            "min_width": null,
            "border": null,
            "align_items": null,
            "bottom": null,
            "_model_module": "@jupyter-widgets/base",
            "top": null,
            "grid_column": null,
            "overflow_y": null,
            "overflow_x": null,
            "grid_auto_flow": null,
            "grid_area": null,
            "grid_template_columns": null,
            "flex": null,
            "_model_name": "LayoutModel",
            "justify_items": null,
            "grid_row": null,
            "max_height": null,
            "align_content": null,
            "visibility": null,
            "align_self": null,
            "height": null,
            "min_height": null,
            "padding": null,
            "grid_auto_rows": null,
            "grid_gap": null,
            "max_width": null,
            "order": null,
            "_view_module_version": "1.2.0",
            "grid_template_areas": null,
            "object_position": null,
            "object_fit": null,
            "grid_auto_columns": null,
            "margin": null,
            "display": null,
            "left": null
          }
        },
        "bc8398b83919412eab847ee8ba416d21": {
          "model_module": "@jupyter-widgets/controls",
          "model_name": "HBoxModel",
          "state": {
            "_view_name": "HBoxView",
            "_dom_classes": [],
            "_model_name": "HBoxModel",
            "_view_module": "@jupyter-widgets/controls",
            "_model_module_version": "1.5.0",
            "_view_count": null,
            "_view_module_version": "1.5.0",
            "box_style": "",
            "layout": "IPY_MODEL_78090d917ca949dca47fd8740ca59736",
            "_model_module": "@jupyter-widgets/controls",
            "children": [
              "IPY_MODEL_326d8a29c9e04b7da2a3582f89a84d86",
              "IPY_MODEL_3713eb1bb08342f492d7f773aff3ea7f"
            ]
          }
        },
        "78090d917ca949dca47fd8740ca59736": {
          "model_module": "@jupyter-widgets/base",
          "model_name": "LayoutModel",
          "state": {
            "_view_name": "LayoutView",
            "grid_template_rows": null,
            "right": null,
            "justify_content": null,
            "_view_module": "@jupyter-widgets/base",
            "overflow": null,
            "_model_module_version": "1.2.0",
            "_view_count": null,
            "flex_flow": null,
            "width": null,
            "min_width": null,
            "border": null,
            "align_items": null,
            "bottom": null,
            "_model_module": "@jupyter-widgets/base",
            "top": null,
            "grid_column": null,
            "overflow_y": null,
            "overflow_x": null,
            "grid_auto_flow": null,
            "grid_area": null,
            "grid_template_columns": null,
            "flex": null,
            "_model_name": "LayoutModel",
            "justify_items": null,
            "grid_row": null,
            "max_height": null,
            "align_content": null,
            "visibility": null,
            "align_self": null,
            "height": null,
            "min_height": null,
            "padding": null,
            "grid_auto_rows": null,
            "grid_gap": null,
            "max_width": null,
            "order": null,
            "_view_module_version": "1.2.0",
            "grid_template_areas": null,
            "object_position": null,
            "object_fit": null,
            "grid_auto_columns": null,
            "margin": null,
            "display": null,
            "left": null
          }
        },
        "326d8a29c9e04b7da2a3582f89a84d86": {
          "model_module": "@jupyter-widgets/controls",
          "model_name": "IntProgressModel",
          "state": {
            "_view_name": "ProgressView",
            "style": "IPY_MODEL_62edae57864341cf9ab59d81767e77ce",
            "_dom_classes": [],
            "description": "100%",
            "_model_name": "IntProgressModel",
            "bar_style": "success",
            "max": 2225,
            "_view_module": "@jupyter-widgets/controls",
            "_model_module_version": "1.5.0",
            "value": 2225,
            "_view_count": null,
            "_view_module_version": "1.5.0",
            "orientation": "horizontal",
            "min": 0,
            "description_tooltip": null,
            "_model_module": "@jupyter-widgets/controls",
            "layout": "IPY_MODEL_abe2421f56dd46fb9c9799085c914a9d"
          }
        },
        "3713eb1bb08342f492d7f773aff3ea7f": {
          "model_module": "@jupyter-widgets/controls",
          "model_name": "HTMLModel",
          "state": {
            "_view_name": "HTMLView",
            "style": "IPY_MODEL_aaa06c30206f4d419204bee9cd7be545",
            "_dom_classes": [],
            "description": "",
            "_model_name": "HTMLModel",
            "placeholder": "​",
            "_view_module": "@jupyter-widgets/controls",
            "_model_module_version": "1.5.0",
            "value": " 2225/2225 [01:05&lt;00:00, 34.15it/s]",
            "_view_count": null,
            "_view_module_version": "1.5.0",
            "description_tooltip": null,
            "_model_module": "@jupyter-widgets/controls",
            "layout": "IPY_MODEL_deb079954f4c436cbacc144abcbf1c81"
          }
        },
        "62edae57864341cf9ab59d81767e77ce": {
          "model_module": "@jupyter-widgets/controls",
          "model_name": "ProgressStyleModel",
          "state": {
            "_view_name": "StyleView",
            "_model_name": "ProgressStyleModel",
            "description_width": "initial",
            "_view_module": "@jupyter-widgets/base",
            "_model_module_version": "1.5.0",
            "_view_count": null,
            "_view_module_version": "1.2.0",
            "bar_color": null,
            "_model_module": "@jupyter-widgets/controls"
          }
        },
        "abe2421f56dd46fb9c9799085c914a9d": {
          "model_module": "@jupyter-widgets/base",
          "model_name": "LayoutModel",
          "state": {
            "_view_name": "LayoutView",
            "grid_template_rows": null,
            "right": null,
            "justify_content": null,
            "_view_module": "@jupyter-widgets/base",
            "overflow": null,
            "_model_module_version": "1.2.0",
            "_view_count": null,
            "flex_flow": null,
            "width": null,
            "min_width": null,
            "border": null,
            "align_items": null,
            "bottom": null,
            "_model_module": "@jupyter-widgets/base",
            "top": null,
            "grid_column": null,
            "overflow_y": null,
            "overflow_x": null,
            "grid_auto_flow": null,
            "grid_area": null,
            "grid_template_columns": null,
            "flex": null,
            "_model_name": "LayoutModel",
            "justify_items": null,
            "grid_row": null,
            "max_height": null,
            "align_content": null,
            "visibility": null,
            "align_self": null,
            "height": null,
            "min_height": null,
            "padding": null,
            "grid_auto_rows": null,
            "grid_gap": null,
            "max_width": null,
            "order": null,
            "_view_module_version": "1.2.0",
            "grid_template_areas": null,
            "object_position": null,
            "object_fit": null,
            "grid_auto_columns": null,
            "margin": null,
            "display": null,
            "left": null
          }
        },
        "aaa06c30206f4d419204bee9cd7be545": {
          "model_module": "@jupyter-widgets/controls",
          "model_name": "DescriptionStyleModel",
          "state": {
            "_view_name": "StyleView",
            "_model_name": "DescriptionStyleModel",
            "description_width": "",
            "_view_module": "@jupyter-widgets/base",
            "_model_module_version": "1.5.0",
            "_view_count": null,
            "_view_module_version": "1.2.0",
            "_model_module": "@jupyter-widgets/controls"
          }
        },
        "deb079954f4c436cbacc144abcbf1c81": {
          "model_module": "@jupyter-widgets/base",
          "model_name": "LayoutModel",
          "state": {
            "_view_name": "LayoutView",
            "grid_template_rows": null,
            "right": null,
            "justify_content": null,
            "_view_module": "@jupyter-widgets/base",
            "overflow": null,
            "_model_module_version": "1.2.0",
            "_view_count": null,
            "flex_flow": null,
            "width": null,
            "min_width": null,
            "border": null,
            "align_items": null,
            "bottom": null,
            "_model_module": "@jupyter-widgets/base",
            "top": null,
            "grid_column": null,
            "overflow_y": null,
            "overflow_x": null,
            "grid_auto_flow": null,
            "grid_area": null,
            "grid_template_columns": null,
            "flex": null,
            "_model_name": "LayoutModel",
            "justify_items": null,
            "grid_row": null,
            "max_height": null,
            "align_content": null,
            "visibility": null,
            "align_self": null,
            "height": null,
            "min_height": null,
            "padding": null,
            "grid_auto_rows": null,
            "grid_gap": null,
            "max_width": null,
            "order": null,
            "_view_module_version": "1.2.0",
            "grid_template_areas": null,
            "object_position": null,
            "object_fit": null,
            "grid_auto_columns": null,
            "margin": null,
            "display": null,
            "left": null
          }
        }
      }
    }
  },
  "cells": [
    {
      "cell_type": "markdown",
      "metadata": {
        "id": "KfyoXN1qJlHN",
        "colab_type": "text"
      },
      "source": [
        "Predefined libraries that are required"
      ]
    },
    {
      "cell_type": "code",
      "metadata": {
        "colab_type": "code",
        "id": "lVjNK8shFKOC",
        "colab": {}
      },
      "source": [
        "%%capture\n",
        "# Install the latest Tensorflow version.\n",
        "!pip3 install --upgrade tensorflow-gpu\n",
        "# Install TF-Hub.\n",
        "!pip3 install tensorflow-hub\n",
        "!pip3 install seaborn\n",
        "!pip3 install fast-pagerank\n",
        "!pip3 install rouge"
      ],
      "execution_count": 0,
      "outputs": []
    },
    {
      "cell_type": "code",
      "metadata": {
        "colab_type": "code",
        "outputId": "3918a7be-7593-46ea-a27f-681f962c417b",
        "cellView": "both",
        "id": "77MPZ2nQzzqi",
        "colab": {
          "base_uri": "https://localhost:8080/",
          "height": 1000
        }
      },
      "source": [
        "from absl import logging\n",
        "\n",
        "import tensorflow as tf\n",
        "import tensorflow_hub as hub\n",
        "import matplotlib.pyplot as plt\n",
        "import numpy as np\n",
        "import os\n",
        "import pandas as pd\n",
        "import re\n",
        "import seaborn as sns\n",
        "from fast_pagerank import pagerank\n",
        "import math\n",
        "import spacy\n",
        "from scipy.sparse import csr_matrix\n",
        "from tqdm.notebook import tqdm\n",
        "import nltk\n",
        "import nltk.data\n",
        "from __future__ import division\n",
        "import gensim\n",
        "from sklearn.decomposition import PCA\n",
        "import gensim.models.word2vec\n",
        "from collections import Counter\n",
        "from nltk.stem import WordNetLemmatizer \n",
        "from sklearn.metrics.pairwise import cosine_similarity\n",
        "import itertools\n",
        "from nltk.tokenize import word_tokenize\n",
        "import re\n",
        "from nltk.corpus import stopwords\n",
        "from nltk.stem import SnowballStemmer\n",
        "from string import punctuation\n",
        "import csv\n",
        "from rouge import Rouge\n",
        "\n",
        "import operator\n",
        "from nltk.corpus import stopwords\n",
        "from nltk.tokenize import sent_tokenize,word_tokenize\n",
        "\n",
        "nltk.download('all')\n",
        "Stopwords = set(stopwords.words('english'))\n",
        "wordlemmatizer = WordNetLemmatizer()\n",
        "tokenizer = nltk.data.load('tokenizers/punkt/english.pickle')\n",
        "\n",
        "\n",
        "\n",
        "nlp = spacy.load('en')"
      ],
      "execution_count": 0,
      "outputs": [
        {
          "output_type": "stream",
          "text": [
            "/usr/local/lib/python3.6/dist-packages/statsmodels/tools/_testing.py:19: FutureWarning: pandas.util.testing is deprecated. Use the functions in the public API at pandas.testing instead.\n",
            "  import pandas.util.testing as tm\n"
          ],
          "name": "stderr"
        },
        {
          "output_type": "stream",
          "text": [
            "[nltk_data] Downloading collection 'all'\n",
            "[nltk_data]    | \n",
            "[nltk_data]    | Downloading package abc to /root/nltk_data...\n",
            "[nltk_data]    |   Unzipping corpora/abc.zip.\n",
            "[nltk_data]    | Downloading package alpino to /root/nltk_data...\n",
            "[nltk_data]    |   Unzipping corpora/alpino.zip.\n",
            "[nltk_data]    | Downloading package biocreative_ppi to\n",
            "[nltk_data]    |     /root/nltk_data...\n",
            "[nltk_data]    |   Unzipping corpora/biocreative_ppi.zip.\n",
            "[nltk_data]    | Downloading package brown to /root/nltk_data...\n",
            "[nltk_data]    |   Unzipping corpora/brown.zip.\n",
            "[nltk_data]    | Downloading package brown_tei to /root/nltk_data...\n",
            "[nltk_data]    |   Unzipping corpora/brown_tei.zip.\n",
            "[nltk_data]    | Downloading package cess_cat to /root/nltk_data...\n",
            "[nltk_data]    |   Unzipping corpora/cess_cat.zip.\n",
            "[nltk_data]    | Downloading package cess_esp to /root/nltk_data...\n",
            "[nltk_data]    |   Unzipping corpora/cess_esp.zip.\n",
            "[nltk_data]    | Downloading package chat80 to /root/nltk_data...\n",
            "[nltk_data]    |   Unzipping corpora/chat80.zip.\n",
            "[nltk_data]    | Downloading package city_database to\n",
            "[nltk_data]    |     /root/nltk_data...\n",
            "[nltk_data]    |   Unzipping corpora/city_database.zip.\n",
            "[nltk_data]    | Downloading package cmudict to /root/nltk_data...\n",
            "[nltk_data]    |   Unzipping corpora/cmudict.zip.\n",
            "[nltk_data]    | Downloading package comparative_sentences to\n",
            "[nltk_data]    |     /root/nltk_data...\n",
            "[nltk_data]    |   Unzipping corpora/comparative_sentences.zip.\n",
            "[nltk_data]    | Downloading package comtrans to /root/nltk_data...\n",
            "[nltk_data]    | Downloading package conll2000 to /root/nltk_data...\n",
            "[nltk_data]    |   Unzipping corpora/conll2000.zip.\n",
            "[nltk_data]    | Downloading package conll2002 to /root/nltk_data...\n",
            "[nltk_data]    |   Unzipping corpora/conll2002.zip.\n",
            "[nltk_data]    | Downloading package conll2007 to /root/nltk_data...\n",
            "[nltk_data]    | Downloading package crubadan to /root/nltk_data...\n",
            "[nltk_data]    |   Unzipping corpora/crubadan.zip.\n",
            "[nltk_data]    | Downloading package dependency_treebank to\n",
            "[nltk_data]    |     /root/nltk_data...\n",
            "[nltk_data]    |   Unzipping corpora/dependency_treebank.zip.\n",
            "[nltk_data]    | Downloading package dolch to /root/nltk_data...\n",
            "[nltk_data]    |   Unzipping corpora/dolch.zip.\n",
            "[nltk_data]    | Downloading package europarl_raw to\n",
            "[nltk_data]    |     /root/nltk_data...\n",
            "[nltk_data]    |   Unzipping corpora/europarl_raw.zip.\n",
            "[nltk_data]    | Downloading package floresta to /root/nltk_data...\n",
            "[nltk_data]    |   Unzipping corpora/floresta.zip.\n",
            "[nltk_data]    | Downloading package framenet_v15 to\n",
            "[nltk_data]    |     /root/nltk_data...\n",
            "[nltk_data]    |   Unzipping corpora/framenet_v15.zip.\n",
            "[nltk_data]    | Downloading package framenet_v17 to\n",
            "[nltk_data]    |     /root/nltk_data...\n",
            "[nltk_data]    |   Unzipping corpora/framenet_v17.zip.\n",
            "[nltk_data]    | Downloading package gazetteers to /root/nltk_data...\n",
            "[nltk_data]    |   Unzipping corpora/gazetteers.zip.\n",
            "[nltk_data]    | Downloading package genesis to /root/nltk_data...\n",
            "[nltk_data]    |   Unzipping corpora/genesis.zip.\n",
            "[nltk_data]    | Downloading package gutenberg to /root/nltk_data...\n",
            "[nltk_data]    |   Unzipping corpora/gutenberg.zip.\n",
            "[nltk_data]    | Downloading package ieer to /root/nltk_data...\n",
            "[nltk_data]    |   Unzipping corpora/ieer.zip.\n",
            "[nltk_data]    | Downloading package inaugural to /root/nltk_data...\n",
            "[nltk_data]    |   Unzipping corpora/inaugural.zip.\n",
            "[nltk_data]    | Downloading package indian to /root/nltk_data...\n",
            "[nltk_data]    |   Unzipping corpora/indian.zip.\n",
            "[nltk_data]    | Downloading package jeita to /root/nltk_data...\n",
            "[nltk_data]    | Downloading package kimmo to /root/nltk_data...\n",
            "[nltk_data]    |   Unzipping corpora/kimmo.zip.\n",
            "[nltk_data]    | Downloading package knbc to /root/nltk_data...\n",
            "[nltk_data]    | Downloading package lin_thesaurus to\n",
            "[nltk_data]    |     /root/nltk_data...\n",
            "[nltk_data]    |   Unzipping corpora/lin_thesaurus.zip.\n",
            "[nltk_data]    | Downloading package mac_morpho to /root/nltk_data...\n",
            "[nltk_data]    |   Unzipping corpora/mac_morpho.zip.\n",
            "[nltk_data]    | Downloading package machado to /root/nltk_data...\n",
            "[nltk_data]    | Downloading package masc_tagged to /root/nltk_data...\n",
            "[nltk_data]    | Downloading package moses_sample to\n",
            "[nltk_data]    |     /root/nltk_data...\n",
            "[nltk_data]    |   Unzipping models/moses_sample.zip.\n",
            "[nltk_data]    | Downloading package movie_reviews to\n",
            "[nltk_data]    |     /root/nltk_data...\n",
            "[nltk_data]    |   Unzipping corpora/movie_reviews.zip.\n",
            "[nltk_data]    | Downloading package names to /root/nltk_data...\n",
            "[nltk_data]    |   Unzipping corpora/names.zip.\n",
            "[nltk_data]    | Downloading package nombank.1.0 to /root/nltk_data...\n",
            "[nltk_data]    | Downloading package nps_chat to /root/nltk_data...\n",
            "[nltk_data]    |   Unzipping corpora/nps_chat.zip.\n",
            "[nltk_data]    | Downloading package omw to /root/nltk_data...\n",
            "[nltk_data]    |   Unzipping corpora/omw.zip.\n",
            "[nltk_data]    | Downloading package opinion_lexicon to\n",
            "[nltk_data]    |     /root/nltk_data...\n",
            "[nltk_data]    |   Unzipping corpora/opinion_lexicon.zip.\n",
            "[nltk_data]    | Downloading package paradigms to /root/nltk_data...\n",
            "[nltk_data]    |   Unzipping corpora/paradigms.zip.\n",
            "[nltk_data]    | Downloading package pil to /root/nltk_data...\n",
            "[nltk_data]    |   Unzipping corpora/pil.zip.\n",
            "[nltk_data]    | Downloading package pl196x to /root/nltk_data...\n",
            "[nltk_data]    |   Unzipping corpora/pl196x.zip.\n",
            "[nltk_data]    | Downloading package ppattach to /root/nltk_data...\n",
            "[nltk_data]    |   Unzipping corpora/ppattach.zip.\n",
            "[nltk_data]    | Downloading package problem_reports to\n",
            "[nltk_data]    |     /root/nltk_data...\n",
            "[nltk_data]    |   Unzipping corpora/problem_reports.zip.\n",
            "[nltk_data]    | Downloading package propbank to /root/nltk_data...\n",
            "[nltk_data]    | Downloading package ptb to /root/nltk_data...\n",
            "[nltk_data]    |   Unzipping corpora/ptb.zip.\n",
            "[nltk_data]    | Downloading package product_reviews_1 to\n",
            "[nltk_data]    |     /root/nltk_data...\n",
            "[nltk_data]    |   Unzipping corpora/product_reviews_1.zip.\n",
            "[nltk_data]    | Downloading package product_reviews_2 to\n",
            "[nltk_data]    |     /root/nltk_data...\n",
            "[nltk_data]    |   Unzipping corpora/product_reviews_2.zip.\n",
            "[nltk_data]    | Downloading package pros_cons to /root/nltk_data...\n",
            "[nltk_data]    |   Unzipping corpora/pros_cons.zip.\n",
            "[nltk_data]    | Downloading package qc to /root/nltk_data...\n",
            "[nltk_data]    |   Unzipping corpora/qc.zip.\n",
            "[nltk_data]    | Downloading package reuters to /root/nltk_data...\n",
            "[nltk_data]    | Downloading package rte to /root/nltk_data...\n",
            "[nltk_data]    |   Unzipping corpora/rte.zip.\n",
            "[nltk_data]    | Downloading package semcor to /root/nltk_data...\n",
            "[nltk_data]    | Downloading package senseval to /root/nltk_data...\n",
            "[nltk_data]    |   Unzipping corpora/senseval.zip.\n",
            "[nltk_data]    | Downloading package sentiwordnet to\n",
            "[nltk_data]    |     /root/nltk_data...\n",
            "[nltk_data]    |   Unzipping corpora/sentiwordnet.zip.\n",
            "[nltk_data]    | Downloading package sentence_polarity to\n",
            "[nltk_data]    |     /root/nltk_data...\n",
            "[nltk_data]    |   Unzipping corpora/sentence_polarity.zip.\n",
            "[nltk_data]    | Downloading package shakespeare to /root/nltk_data...\n",
            "[nltk_data]    |   Unzipping corpora/shakespeare.zip.\n",
            "[nltk_data]    | Downloading package sinica_treebank to\n",
            "[nltk_data]    |     /root/nltk_data...\n",
            "[nltk_data]    |   Unzipping corpora/sinica_treebank.zip.\n",
            "[nltk_data]    | Downloading package smultron to /root/nltk_data...\n",
            "[nltk_data]    |   Unzipping corpora/smultron.zip.\n",
            "[nltk_data]    | Downloading package state_union to /root/nltk_data...\n",
            "[nltk_data]    |   Unzipping corpora/state_union.zip.\n",
            "[nltk_data]    | Downloading package stopwords to /root/nltk_data...\n",
            "[nltk_data]    |   Unzipping corpora/stopwords.zip.\n",
            "[nltk_data]    | Downloading package subjectivity to\n",
            "[nltk_data]    |     /root/nltk_data...\n",
            "[nltk_data]    |   Unzipping corpora/subjectivity.zip.\n",
            "[nltk_data]    | Downloading package swadesh to /root/nltk_data...\n",
            "[nltk_data]    |   Unzipping corpora/swadesh.zip.\n",
            "[nltk_data]    | Downloading package switchboard to /root/nltk_data...\n",
            "[nltk_data]    |   Unzipping corpora/switchboard.zip.\n",
            "[nltk_data]    | Downloading package timit to /root/nltk_data...\n",
            "[nltk_data]    |   Unzipping corpora/timit.zip.\n",
            "[nltk_data]    | Downloading package toolbox to /root/nltk_data...\n",
            "[nltk_data]    |   Unzipping corpora/toolbox.zip.\n",
            "[nltk_data]    | Downloading package treebank to /root/nltk_data...\n",
            "[nltk_data]    |   Unzipping corpora/treebank.zip.\n",
            "[nltk_data]    | Downloading package twitter_samples to\n",
            "[nltk_data]    |     /root/nltk_data...\n",
            "[nltk_data]    |   Unzipping corpora/twitter_samples.zip.\n",
            "[nltk_data]    | Downloading package udhr to /root/nltk_data...\n",
            "[nltk_data]    |   Unzipping corpora/udhr.zip.\n",
            "[nltk_data]    | Downloading package udhr2 to /root/nltk_data...\n",
            "[nltk_data]    |   Unzipping corpora/udhr2.zip.\n",
            "[nltk_data]    | Downloading package unicode_samples to\n",
            "[nltk_data]    |     /root/nltk_data...\n",
            "[nltk_data]    |   Unzipping corpora/unicode_samples.zip.\n",
            "[nltk_data]    | Downloading package universal_treebanks_v20 to\n",
            "[nltk_data]    |     /root/nltk_data...\n",
            "[nltk_data]    | Downloading package verbnet to /root/nltk_data...\n",
            "[nltk_data]    |   Unzipping corpora/verbnet.zip.\n",
            "[nltk_data]    | Downloading package verbnet3 to /root/nltk_data...\n",
            "[nltk_data]    |   Unzipping corpora/verbnet3.zip.\n",
            "[nltk_data]    | Downloading package webtext to /root/nltk_data...\n",
            "[nltk_data]    |   Unzipping corpora/webtext.zip.\n",
            "[nltk_data]    | Downloading package wordnet to /root/nltk_data...\n",
            "[nltk_data]    |   Unzipping corpora/wordnet.zip.\n",
            "[nltk_data]    | Downloading package wordnet_ic to /root/nltk_data...\n",
            "[nltk_data]    |   Unzipping corpora/wordnet_ic.zip.\n",
            "[nltk_data]    | Downloading package words to /root/nltk_data...\n",
            "[nltk_data]    |   Unzipping corpora/words.zip.\n",
            "[nltk_data]    | Downloading package ycoe to /root/nltk_data...\n",
            "[nltk_data]    |   Unzipping corpora/ycoe.zip.\n",
            "[nltk_data]    | Downloading package rslp to /root/nltk_data...\n",
            "[nltk_data]    |   Unzipping stemmers/rslp.zip.\n",
            "[nltk_data]    | Downloading package maxent_treebank_pos_tagger to\n",
            "[nltk_data]    |     /root/nltk_data...\n",
            "[nltk_data]    |   Unzipping taggers/maxent_treebank_pos_tagger.zip.\n",
            "[nltk_data]    | Downloading package universal_tagset to\n",
            "[nltk_data]    |     /root/nltk_data...\n",
            "[nltk_data]    |   Unzipping taggers/universal_tagset.zip.\n",
            "[nltk_data]    | Downloading package maxent_ne_chunker to\n",
            "[nltk_data]    |     /root/nltk_data...\n",
            "[nltk_data]    |   Unzipping chunkers/maxent_ne_chunker.zip.\n",
            "[nltk_data]    | Downloading package punkt to /root/nltk_data...\n",
            "[nltk_data]    |   Unzipping tokenizers/punkt.zip.\n",
            "[nltk_data]    | Downloading package book_grammars to\n",
            "[nltk_data]    |     /root/nltk_data...\n",
            "[nltk_data]    |   Unzipping grammars/book_grammars.zip.\n",
            "[nltk_data]    | Downloading package sample_grammars to\n",
            "[nltk_data]    |     /root/nltk_data...\n",
            "[nltk_data]    |   Unzipping grammars/sample_grammars.zip.\n",
            "[nltk_data]    | Downloading package spanish_grammars to\n",
            "[nltk_data]    |     /root/nltk_data...\n",
            "[nltk_data]    |   Unzipping grammars/spanish_grammars.zip.\n",
            "[nltk_data]    | Downloading package basque_grammars to\n",
            "[nltk_data]    |     /root/nltk_data...\n",
            "[nltk_data]    |   Unzipping grammars/basque_grammars.zip.\n",
            "[nltk_data]    | Downloading package large_grammars to\n",
            "[nltk_data]    |     /root/nltk_data...\n",
            "[nltk_data]    |   Unzipping grammars/large_grammars.zip.\n",
            "[nltk_data]    | Downloading package tagsets to /root/nltk_data...\n",
            "[nltk_data]    |   Unzipping help/tagsets.zip.\n",
            "[nltk_data]    | Downloading package snowball_data to\n",
            "[nltk_data]    |     /root/nltk_data...\n",
            "[nltk_data]    | Downloading package bllip_wsj_no_aux to\n",
            "[nltk_data]    |     /root/nltk_data...\n",
            "[nltk_data]    |   Unzipping models/bllip_wsj_no_aux.zip.\n",
            "[nltk_data]    | Downloading package word2vec_sample to\n",
            "[nltk_data]    |     /root/nltk_data...\n",
            "[nltk_data]    |   Unzipping models/word2vec_sample.zip.\n",
            "[nltk_data]    | Downloading package panlex_swadesh to\n",
            "[nltk_data]    |     /root/nltk_data...\n",
            "[nltk_data]    | Downloading package mte_teip5 to /root/nltk_data...\n",
            "[nltk_data]    |   Unzipping corpora/mte_teip5.zip.\n",
            "[nltk_data]    | Downloading package averaged_perceptron_tagger to\n",
            "[nltk_data]    |     /root/nltk_data...\n",
            "[nltk_data]    |   Unzipping taggers/averaged_perceptron_tagger.zip.\n",
            "[nltk_data]    | Downloading package averaged_perceptron_tagger_ru to\n",
            "[nltk_data]    |     /root/nltk_data...\n",
            "[nltk_data]    |   Unzipping\n",
            "[nltk_data]    |       taggers/averaged_perceptron_tagger_ru.zip.\n",
            "[nltk_data]    | Downloading package perluniprops to\n",
            "[nltk_data]    |     /root/nltk_data...\n",
            "[nltk_data]    |   Unzipping misc/perluniprops.zip.\n",
            "[nltk_data]    | Downloading package nonbreaking_prefixes to\n",
            "[nltk_data]    |     /root/nltk_data...\n",
            "[nltk_data]    |   Unzipping corpora/nonbreaking_prefixes.zip.\n",
            "[nltk_data]    | Downloading package vader_lexicon to\n",
            "[nltk_data]    |     /root/nltk_data...\n",
            "[nltk_data]    | Downloading package porter_test to /root/nltk_data...\n",
            "[nltk_data]    |   Unzipping stemmers/porter_test.zip.\n",
            "[nltk_data]    | Downloading package wmt15_eval to /root/nltk_data...\n",
            "[nltk_data]    |   Unzipping models/wmt15_eval.zip.\n",
            "[nltk_data]    | Downloading package mwa_ppdb to /root/nltk_data...\n",
            "[nltk_data]    |   Unzipping misc/mwa_ppdb.zip.\n",
            "[nltk_data]    | \n",
            "[nltk_data]  Done downloading collection all\n"
          ],
          "name": "stdout"
        }
      ]
    },
    {
      "cell_type": "code",
      "metadata": {
        "id": "WlSePS3hNliU",
        "colab_type": "code",
        "outputId": "82137bc6-80c8-4776-97dc-487e4e274ee9",
        "colab": {
          "base_uri": "https://localhost:8080/",
          "height": 121
        }
      },
      "source": [
        "from google.colab import drive\n",
        "drive.mount('/content/drive')"
      ],
      "execution_count": 0,
      "outputs": [
        {
          "output_type": "stream",
          "text": [
            "Go to this URL in a browser: https://accounts.google.com/o/oauth2/auth?client_id=947318989803-6bn6qk8qdgf4n4g3pfee6491hc0brc4i.apps.googleusercontent.com&redirect_uri=urn%3aietf%3awg%3aoauth%3a2.0%3aoob&response_type=code&scope=email%20https%3a%2f%2fwww.googleapis.com%2fauth%2fdocs.test%20https%3a%2f%2fwww.googleapis.com%2fauth%2fdrive%20https%3a%2f%2fwww.googleapis.com%2fauth%2fdrive.photos.readonly%20https%3a%2f%2fwww.googleapis.com%2fauth%2fpeopleapi.readonly\n",
            "\n",
            "Enter your authorization code:\n",
            "··········\n",
            "Mounted at /content/drive\n"
          ],
          "name": "stdout"
        }
      ]
    },
    {
      "cell_type": "code",
      "metadata": {
        "id": "V9rJtfo9NoYa",
        "colab_type": "code",
        "colab": {}
      },
      "source": [
        "file_path = '/content/drive/My Drive/NLP_DATA/'\n",
        "news_summary = pd.read_csv(file_path + 'bbc_dataset.csv' , encoding='ISO-8859-1')"
      ],
      "execution_count": 0,
      "outputs": []
    },
    {
      "cell_type": "code",
      "metadata": {
        "id": "gQJICyJ1OcEx",
        "colab_type": "code",
        "outputId": "eaacd686-2028-43c4-dbe1-f711630a36fa",
        "colab": {
          "base_uri": "https://localhost:8080/",
          "height": 206
        }
      },
      "source": [
        "news_summary.head()"
      ],
      "execution_count": 0,
      "outputs": [
        {
          "output_type": "execute_result",
          "data": {
            "text/html": [
              "<div>\n",
              "<style scoped>\n",
              "    .dataframe tbody tr th:only-of-type {\n",
              "        vertical-align: middle;\n",
              "    }\n",
              "\n",
              "    .dataframe tbody tr th {\n",
              "        vertical-align: top;\n",
              "    }\n",
              "\n",
              "    .dataframe thead th {\n",
              "        text-align: right;\n",
              "    }\n",
              "</style>\n",
              "<table border=\"1\" class=\"dataframe\">\n",
              "  <thead>\n",
              "    <tr style=\"text-align: right;\">\n",
              "      <th></th>\n",
              "      <th>ARTICLE</th>\n",
              "      <th>SUMMARY</th>\n",
              "    </tr>\n",
              "  </thead>\n",
              "  <tbody>\n",
              "    <tr>\n",
              "      <th>0</th>\n",
              "      <td>Ad sales boost Time Warner profit\\nQuarterly p...</td>\n",
              "      <td>TimeWarner said fourth quarter sales rose 2% t...</td>\n",
              "    </tr>\n",
              "    <tr>\n",
              "      <th>1</th>\n",
              "      <td>Dollar gains on Greenspan speech\\nThe dollar h...</td>\n",
              "      <td>The dollar has hit its highest level against t...</td>\n",
              "    </tr>\n",
              "    <tr>\n",
              "      <th>2</th>\n",
              "      <td>Yukos unit buyer faces loan claim\\nThe owners ...</td>\n",
              "      <td>Yukos' owner Menatep Group says it will ask Ro...</td>\n",
              "    </tr>\n",
              "    <tr>\n",
              "      <th>3</th>\n",
              "      <td>High fuel prices hit BA's profits\\nBritish Air...</td>\n",
              "      <td>Rod Eddington, BA's chief executive, said the ...</td>\n",
              "    </tr>\n",
              "    <tr>\n",
              "      <th>4</th>\n",
              "      <td>Pernod takeover talk lifts Domecq\\nShares in U...</td>\n",
              "      <td>Pernod has reduced the debt it took on to fund...</td>\n",
              "    </tr>\n",
              "  </tbody>\n",
              "</table>\n",
              "</div>"
            ],
            "text/plain": [
              "                                             ARTICLE                                            SUMMARY\n",
              "0  Ad sales boost Time Warner profit\\nQuarterly p...  TimeWarner said fourth quarter sales rose 2% t...\n",
              "1  Dollar gains on Greenspan speech\\nThe dollar h...  The dollar has hit its highest level against t...\n",
              "2  Yukos unit buyer faces loan claim\\nThe owners ...  Yukos' owner Menatep Group says it will ask Ro...\n",
              "3  High fuel prices hit BA's profits\\nBritish Air...  Rod Eddington, BA's chief executive, said the ...\n",
              "4  Pernod takeover talk lifts Domecq\\nShares in U...  Pernod has reduced the debt it took on to fund..."
            ]
          },
          "metadata": {
            "tags": []
          },
          "execution_count": 7
        }
      ]
    },
    {
      "cell_type": "code",
      "metadata": {
        "colab_type": "code",
        "id": "h1FFCTKm7ba4",
        "colab": {}
      },
      "source": [
        "def embedSentences(messages_):\n",
        "  message_embeddings_ = embed(messages_)\n",
        "  similarity_list.append(np.inner(message_embeddings_, message_embeddings_))\n",
        "  #plot_similarity(messages_, message_embeddings_, 90)\n",
        "\n",
        "def sortListOnSimilarity(paragraph, similarityScore):\n",
        "  similarityScore = similarityScore.reshape(-1)\n",
        "  sorted_index = np.argsort(similarityScore)\n",
        "  sorted_index = sorted_index.reshape(-1)\n",
        "  dummy_list = []\n",
        "  lengthScore = len(similarityScore)\n",
        "  for iter in range(lengthScore):\n",
        "    dummy_list.append(paragraph[sorted_index[iter]])\n",
        "  new_list = \"\"\n",
        "  #the number of sentences to be considered is subject to changes\n",
        "  numberOfSentencesRequired = 10 if math.ceil(lengthScore / 2) > 10 else math.ceil(lengthScore / 2)\n",
        "  for iter in range(numberOfSentencesRequired):\n",
        "    new_list = new_list + dummy_list[lengthScore - iter - 1] + \" \"\n",
        "  return new_list\n",
        "\n",
        "def plot_graph(oneList,twoList, LenList):\n",
        "  plt.plot(oneList, linestyle='-', color='g', label='Rouge 1')\n",
        "  plt.plot(twoList, linestyle=':', color='r', label='Rouge 2')\n",
        "  plt.plot(LenList, linestyle='-', color='b', label='Rouge 3')\n",
        "  plt.legend(loc='best')\n",
        "  plt.xlabel(\"Data\")\n",
        "  plt.ylabel(\"F-Measure\")\n",
        "\n",
        "\n",
        "  x_keys = [\"1\" , \"2\" , \"l\"]\n",
        "  y_vales = [ np.mean(oneList) , np.mean(twoList) , np.mean(LenList)]\n",
        "  plt.style.use('seaborn-whitegrid')\n",
        "  fig = plt.figure()\n",
        "  ax = plt.axes()\n",
        "  ax.plot( x_keys , y_vales)\n",
        "  plt.xlabel(\"N-Gram\")\n",
        "  plt.ylabel(\"Mean F-Measure\")\n",
        "\n",
        "def runPerformanceMetric(dataframe):\n",
        "  rougeObj = Rouge()\n",
        "  rougeOneList = []\n",
        "  rougeSecondList = []\n",
        "  rougeLenList = []\n",
        "  for i in tqdm(range(len(dataframe[\"ORIGINAL_SUMMARY\"]))):\n",
        "    scores = rougeObj.get_scores(dataframe[\"OUR_SUMMARY\"][i], dataframe[\"ORIGINAL_SUMMARY\"][i])\n",
        "    scores = scores[0]\n",
        "    rougeOneList.append(scores[\"rouge-1\"][\"f\"])\n",
        "    rougeSecondList.append(scores[\"rouge-2\"][\"f\"])\n",
        "    rougeLenList.append(scores[\"rouge-l\"][\"f\"])\n",
        "\n",
        "  plot_graph(rougeOneList,rougeSecondList, rougeLenList )"
      ],
      "execution_count": 0,
      "outputs": []
    },
    {
      "cell_type": "markdown",
      "metadata": {
        "id": "0VOmnX96J8NK",
        "colab_type": "text"
      },
      "source": [
        "Loading Google's Universal Sentence Encoder"
      ]
    },
    {
      "cell_type": "code",
      "metadata": {
        "id": "BdNQYhQfhj0i",
        "colab_type": "code",
        "outputId": "33946fa2-642b-41e5-b460-8ecc51683249",
        "colab": {
          "base_uri": "https://localhost:8080/",
          "height": 34
        }
      },
      "source": [
        "module_url = \"https://tfhub.dev/google/universal-sentence-encoder/4\"\n",
        "model = hub.load(module_url)\n",
        "print (\"module %s loaded\" % module_url)\n",
        "def embed(input):\n",
        "  return model(input)"
      ],
      "execution_count": 0,
      "outputs": [
        {
          "output_type": "stream",
          "text": [
            "module https://tfhub.dev/google/universal-sentence-encoder/4 loaded\n"
          ],
          "name": "stdout"
        }
      ]
    },
    {
      "cell_type": "code",
      "metadata": {
        "colab_type": "code",
        "id": "cPMCaxrZwp7t",
        "outputId": "a6fc88eb-82a1-4cf7-880f-6da3e59556ac",
        "colab": {
          "base_uri": "https://localhost:8080/",
          "height": 66,
          "referenced_widgets": [
            "00926c2fe43149d48c739d4ba0758a29",
            "e3b1b98b7a244ff18a80f138f049de13",
            "cba8a4168ac34804a81a4b4c342dea81",
            "eafec5e2e0b34445bae1e8fb6af2c8e8",
            "19836a451048419baae1ecb5bdf176a3",
            "41ed651680754fe196cce7d90cb7f789",
            "1c5584146d4a48e8b1b08d5231ac1ba4",
            "2cd39e15724f4e02af1798136bbb6b13"
          ]
        }
      },
      "source": [
        "output_array = []\n",
        "for each_news_article in tqdm(news_summary[\"ARTICLE\"]):\n",
        "  each_news_sentences = []\n",
        "\n",
        "  # tokenizer with spacy\n",
        "  # tokens = nlp(each_news_article)\n",
        "  # for sent in tokens.sents:\n",
        "  #     each_news_sentences.append(sent.string.strip())\n",
        "  \n",
        "  for sent in tokenizer.tokenize(each_news_article):\n",
        "    each_news_sentences.append(sent)\n",
        "\n",
        "  similarity_list=[]\n",
        "  embedSentences(each_news_sentences)\n",
        "  similarityScore = csr_matrix(np.array(similarity_list)[0])\n",
        "  rankedList=pagerank(similarityScore, p=0.85)\n",
        "  output_array.append(sortListOnSimilarity(each_news_sentences,rankedList))\n",
        "\n",
        "output_pd = pd.DataFrame()\n",
        "output_pd[\"OUR_SUMMARY\"] = output_array\n",
        "output_pd[\"ORIGINAL_SUMMARY\"] = news_summary[\"SUMMARY\"]"
      ],
      "execution_count": 0,
      "outputs": [
        {
          "output_type": "display_data",
          "data": {
            "application/vnd.jupyter.widget-view+json": {
              "model_id": "00926c2fe43149d48c739d4ba0758a29",
              "version_minor": 0,
              "version_major": 2
            },
            "text/plain": [
              "HBox(children=(IntProgress(value=0, max=2225), HTML(value='')))"
            ]
          },
          "metadata": {
            "tags": []
          }
        },
        {
          "output_type": "stream",
          "text": [
            "\n"
          ],
          "name": "stdout"
        }
      ]
    },
    {
      "cell_type": "code",
      "metadata": {
        "id": "YgFTE1u4MNQw",
        "colab_type": "code",
        "outputId": "2f00c44e-2fea-455d-8609-17039a85fb7b",
        "colab": {
          "base_uri": "https://localhost:8080/",
          "height": 124
        }
      },
      "source": [
        "print(output_pd[\"OUR_SUMMARY\"][141])\n",
        "print(output_pd[\"ORIGINAL_SUMMARY\"][141])\n",
        "\n",
        "scores = rougeObj.get_scores(output_pd[\"OUR_SUMMARY\"][141], output_pd[\"ORIGINAL_SUMMARY\"][141])\n",
        "scores = scores[0]\n",
        "print(scores)\n",
        "print(scores[\"rouge-l\"][\"f\"])"
      ],
      "execution_count": 0,
      "outputs": [
        {
          "output_type": "stream",
          "text": [
            "Asian banks halt dollar's slide\n",
            "The dollar regained some lost ground against most major currencies on Wednesday after South Korea and Japan denied they were planning a sell-off. The dollar suffered its biggest one-day fall in four months on Tuesday on fears that Asian central banks were about to lower their reserves of dollars. \n",
            "The dollar regained some lost ground against most major currencies on Wednesday after South Korea and Japan denied they were planning a sell-off.Japan is the biggest holder of dollar reserves in the world, with South Korea the fourth largest.The dollar's latest slide began after a South Korean parliamentary report suggested the country, which has about $200bn in foreign reserves, had plans to boost holdings of currencies such as the Australian and Canadian dollar.Japan has $850bn in foreign exchange reserves.The dollar suffered its biggest one-day fall in four months on Tuesday on fears that Asian central banks were about to lower their reserves of dollars.A senior Japanese Finance Ministry official told Reuters \"we have no plans to change the composition of currency holdings in the foreign reserves, and we are not thinking about expanding our euro holdings\".\n",
            "{'rouge-1': {'f': 0.520408159227926, 'p': 0.9272727272727272, 'r': 0.3617021276595745}, 'rouge-2': {'f': 0.4845360784567967, 'p': 0.8703703703703703, 'r': 0.3357142857142857}, 'rouge-l': {'f': 0.6344827541916767, 'p': 0.9583333333333334, 'r': 0.4742268041237113}}\n",
            "0.6344827541916767\n"
          ],
          "name": "stdout"
        }
      ]
    },
    {
      "cell_type": "code",
      "metadata": {
        "id": "l_rIvQtaFr9t",
        "colab_type": "code",
        "outputId": "c51a3db1-7ff1-4a7e-d4c4-4cb32282b55e",
        "colab": {
          "base_uri": "https://localhost:8080/",
          "height": 584,
          "referenced_widgets": [
            "5936e3c329c2448d8cea1122ac9ef828",
            "d5728c224413427eaac044fea94e57c6",
            "09feca13035b48b1960286a8c2820e97",
            "695d3a5a143b446b9a65bb3e7a60ef42",
            "c12cdac012cc478c8f6c8068b6b48e88",
            "748e70d9fd94407db6b55fd37c426ddc",
            "3fa0d3c33d2845ccabf28702741ccd45",
            "f084e4fbfdd245f3b6fe0f03a0ec9ce6"
          ]
        }
      },
      "source": [
        "runPerformanceMetric(output_pd)"
      ],
      "execution_count": 0,
      "outputs": [
        {
          "output_type": "display_data",
          "data": {
            "application/vnd.jupyter.widget-view+json": {
              "model_id": "5936e3c329c2448d8cea1122ac9ef828",
              "version_minor": 0,
              "version_major": 2
            },
            "text/plain": [
              "HBox(children=(IntProgress(value=0, max=2225), HTML(value='')))"
            ]
          },
          "metadata": {
            "tags": []
          }
        },
        {
          "output_type": "stream",
          "text": [
            "\n"
          ],
          "name": "stdout"
        },
        {
          "output_type": "display_data",
          "data": {
            "image/png": "[encoded data removed]",
            "text/plain": [
              "<Figure size 432x288 with 1 Axes>"
            ]
          },
          "metadata": {
            "tags": []
          }
        },
        {
          "output_type": "display_data",
          "data": {
            "image/png": "[encoded data removed]",
            "text/plain": [
              "<Figure size 432x288 with 1 Axes>"
            ]
          },
          "metadata": {
            "tags": []
          }
        }
      ]
    },
    {
      "cell_type": "markdown",
      "metadata": {
        "id": "wCHQ6OcWIQmT",
        "colab_type": "text"
      },
      "source": [
        "**TF-IDF Sentence Ranking**"
      ]
    },
    {
      "cell_type": "markdown",
      "metadata": {
        "id": "WT_hNghT5RVd",
        "colab_type": "text"
      },
      "source": [
        "\n",
        "Before summarizing we have to preprocess the raw document. Preprocessing involves lemmatization, stemming and cleaning. The lemmatization function helps to lemmatize the word tokens using the wordlemmatizer. The stemming function is used to separate the main stem of the word token. Then punctuation omitter function helps in cleaning the text by removing the punctuation marks."
      ]
    },
    {
      "cell_type": "code",
      "metadata": {
        "id": "kVaN5bgS25A8",
        "colab_type": "code",
        "colab": {}
      },
      "source": [
        "def lemmatization(words):\n",
        "    lemma_text = []\n",
        "    for word in words:\n",
        "       lemma_text.append(wordlemmatizer.lemmatize(word))\n",
        "    return lemma_text\n",
        "\n",
        "def stemming(inputWords):\n",
        "    stem_text = []\n",
        "    for word in inputWords:\n",
        "       stem_text.append(stemmer.stem(word))\n",
        "    return stem_text\n",
        "\n",
        "def punctuation_omitter(word):\n",
        "    regExpression = r'[^a-zA-Z0-9\\s]'\n",
        "    word = re.sub(regExpression,'',word)\n",
        "    return word"
      ],
      "execution_count": 0,
      "outputs": []
    },
    {
      "cell_type": "code",
      "metadata": {
        "id": "PWkDCA-_6Tll",
        "colab_type": "code",
        "colab": {}
      },
      "source": [
        "# The function freq() is used to calculate the frequency of a word in the document\n",
        "def freq(IpText):\n",
        "    IpText = [word.lower() for word in IpText]\n",
        "    frequencyDictionary = {}\n",
        "    monoTexts = []\n",
        "    for word in IpText:\n",
        "       if word not in monoTexts:\n",
        "           monoTexts.append(word)\n",
        "    for word in monoTexts:\n",
        "       frequencyDictionary[word] = IpText.count(word)\n",
        "    return frequencyDictionary\n",
        "\n",
        "#The function tagger() is used to tag each word with it is corressponding POS tag. This function returns the noun phrases and verb phrases in the document\n",
        "def tagger(word):\n",
        "    tags = nltk.pos_tag(word.split())\n",
        "    NpVp_tagger = []\n",
        "    for word,tag in tags:\n",
        "        if tag == \"NNS\" or tag == \"NN\" or tag == \"NNP\" or tag == \"VBG\" or tag == \"VBN\" or tag == \"VB\" or tag == \"VBD\" or tag == \"VBZ\" or tag == \"VBP\":\n",
        "             NpVp_tagger.append(word)\n",
        "    return NpVp_tagger\n",
        "\n",
        "# The termFreqScore() function helps in finding the frequecy of the particular term.\n",
        "# It is calculated as the number of times the word appears in the sentence upon the total number of words in the sentence.\n",
        "def termFreqScore(text,sent):\n",
        "    sentWordFreq = 0\n",
        "    sentLen = len(sent)\n",
        "    for wrdsent in sent.split():\n",
        "        if text == wrdsent:\n",
        "            sentWordFreq = sentWordFreq + 1\n",
        "    termFreq =  sentWordFreq/ sentLen\n",
        "    return termFreq\n",
        "\n",
        "#inverseDocFreqScore() helps in calculating the IDF by dividing the total number of sentences by number of sentences containing the word and taking the logarithm.\n",
        "def inverseDocFreqScore(numSent,word,sents):\n",
        "    noSentWithWord = 0\n",
        "    for sentence in sents:\n",
        "        PuncOmitSent = punctuation_omitter(str(sentence))\n",
        "        CompiledSent = re.sub(r'\\d+', '', PuncOmitSent)\n",
        "        SplittedSent = CompiledSent.split()\n",
        "        Processedsentence = [word for word in SplittedSent if word.lower() not in Stopwords and len(word)>1]\n",
        "        Processedsentence = [word.lower() for word in Processedsentence]\n",
        "        Processedsentence = [wordlemmatizer.lemmatize(word) for word in Processedsentence]\n",
        "        if word in Processedsentence:\n",
        "            noSentWithWord = noSentWithWord + 1\n",
        "    invDocFreq = math.log10(numSent/noSentWithWord)\n",
        "    return invDocFreq\n",
        "\n",
        "# termFreqInvDocFreqscore() is the product of termFrequency and inverseDocumentFrequency\n",
        "def termFreqInvDocFreqscore(termFreq,invDocFreq):\n",
        "    return termFreq*invDocFreq\n",
        "\n",
        "def word_termFreqInvDocFreqscore(dict_freq,word,sentences,sentence):\n",
        "    word_tfidf = []\n",
        "    termFreq = termFreqScore(word,sentence)\n",
        "    inverseDocFreq = inverseDocFreqScore(len(sentences),word,sentences)\n",
        "    termfreqInvDocfreq = termFreqInvDocFreqscore(termFreq,inverseDocFreq)\n",
        "    return termfreqInvDocfreq\n",
        "\n",
        "#rank_sent() helps in calculating the sentence score. Based on this score the sentences with high rank the highest priority\n",
        "def rank_sent(sentence,frequencyDictionary,allSents):\n",
        "     ValScore = 0\n",
        "     sentence = punctuation_omitter(str(sentence)) \n",
        "     sentence = re.sub(r'\\d+', '', sentence)\n",
        "     POSTagSent = [] \n",
        "     no_of_sentences = len(allSents)\n",
        "     POSTagSent = tagger(sentence)\n",
        "     for word in POSTagSent:\n",
        "          if word.lower() not in Stopwords and word not in Stopwords and len(word)>1: \n",
        "                word = word.lower()\n",
        "                word = wordlemmatizer.lemmatize(word)\n",
        "                ValScore = ValScore + word_termFreqInvDocFreqscore(frequencyDictionary,word,allSents,sentence)\n",
        "     return ValScore"
      ],
      "execution_count": 0,
      "outputs": []
    },
    {
      "cell_type": "code",
      "metadata": {
        "id": "ybK1Niua0GUb",
        "colab_type": "code",
        "outputId": "ec83c21c-d6c9-4fc9-f072-d9a0e9b6d955",
        "colab": {
          "base_uri": "https://localhost:8080/",
          "height": 82,
          "referenced_widgets": [
            "a4ba7bd5c8644b6fb3773c5bd8dc5e72",
            "557b106389294169bee6203387c650da",
            "1e7b60f4d6fb46a5986db87fcb311728",
            "10088d8fb1d542c9b32dca13f0acf766",
            "bd7e18bf1e9b4b4381c4313acb0f89ae",
            "3686084aad1b4c66abdc3d4ce38864fe",
            "7205dded670240b59d48ae5bcf9daa57",
            "f1282be5952a4df5b113ad3029ecf317"
          ]
        }
      },
      "source": [
        "output_pd = pd.DataFrame()\n",
        "output_array = []\n",
        "percentValue = int(input('Enter the amount of detail that has to be retained in percentage :'))\n",
        "for text in tqdm(news_summary[\"ARTICLE\"]):\n",
        "  sent_tokens = sent_tokenize(text)\n",
        "  text = punctuation_omitter(str(text))\n",
        "  text = re.sub(r'\\d+', '', text)\n",
        "\n",
        "  stopwordsTokens = word_tokenize(text)\n",
        "  tokenized_words = [word for word in stopwordsTokens if word not in Stopwords]\n",
        "  tokenized_words = [word for word in tokenized_words if len(word) > 1]\n",
        "  tokenized_words = [word.lower() for word in tokenized_words]\n",
        "  tokenized_words = lemmatization(tokenized_words)\n",
        "  frequencyOfWord = freq(tokenized_words)\n",
        "\n",
        "  numSentences = int((percentValue * len(sent_tokens))/100)\n",
        "  constant = 1\n",
        "  impSent = {}\n",
        "  for sent in sent_tokens:\n",
        "    sentenceimp = rank_sent(sent,frequencyOfWord,sent_tokens)\n",
        "    impSent[constant] = sentenceimp\n",
        "    constant = constant+1\n",
        "  impSent = sorted(impSent.items(), key=operator.itemgetter(1),reverse=True)\n",
        "\n",
        "  count = 0\n",
        "  resultantText = []\n",
        "\n",
        "  numSent = []\n",
        "  for probOfWord in impSent:\n",
        "    if count < numSentences:\n",
        "      numSent.append(probOfWord[0])\n",
        "      count = count+1\n",
        "    else:\n",
        "      break\n",
        "  numSent.sort()\n",
        "  count = 1\n",
        "  for sentence in sent_tokens:\n",
        "    if count in numSent:\n",
        "      resultantText.append(sentence)\n",
        "    count = count+1\n",
        "  resultantText = \" \".join(resultantText)\n",
        "  output_array.append(resultantText)\n",
        "\n",
        "output_pd = pd.DataFrame()\n",
        "output_pd[\"OUR_SUMMARY\"] = output_array\n",
        "output_pd[\"ORIGINAL_SUMMARY\"] = news_summary[\"SUMMARY\"]"
      ],
      "execution_count": 0,
      "outputs": [
        {
          "output_type": "stream",
          "text": [
            "Enter the amount of detail that has to be retained in percentage :70\n"
          ],
          "name": "stdout"
        },
        {
          "output_type": "display_data",
          "data": {
            "application/vnd.jupyter.widget-view+json": {
              "model_id": "a4ba7bd5c8644b6fb3773c5bd8dc5e72",
              "version_minor": 0,
              "version_major": 2
            },
            "text/plain": [
              "HBox(children=(IntProgress(value=0, max=2225), HTML(value='')))"
            ]
          },
          "metadata": {
            "tags": []
          }
        },
        {
          "output_type": "stream",
          "text": [
            "\n"
          ],
          "name": "stdout"
        }
      ]
    },
    {
      "cell_type": "code",
      "metadata": {
        "id": "JN9dbL2_H_Zh",
        "colab_type": "code",
        "outputId": "48bf02ae-0b14-49b0-da2e-364c21feb2a0",
        "colab": {
          "base_uri": "https://localhost:8080/",
          "height": 587,
          "referenced_widgets": [
            "c9e496fa93834c28a7c6a416e63f9cfc",
            "4792a2fa0cbd43a8b21dee2f604078c2",
            "42c200060927484aba246a946dbac0c5",
            "3636f49445894e9e849306d3a4341bb5",
            "b21da5bcab7443ecb433d19ad1c1b9e8",
            "340c8916f575444e82d7a6ed05a13e98",
            "d3c9e438b034465d91aafd5ae7f5f1e9",
            "9816fd88cad14074905e9e8f746a671a"
          ]
        }
      },
      "source": [
        "runPerformanceMetric(output_pd)"
      ],
      "execution_count": 0,
      "outputs": [
        {
          "output_type": "display_data",
          "data": {
            "application/vnd.jupyter.widget-view+json": {
              "model_id": "c9e496fa93834c28a7c6a416e63f9cfc",
              "version_minor": 0,
              "version_major": 2
            },
            "text/plain": [
              "HBox(children=(IntProgress(value=0, max=2225), HTML(value='')))"
            ]
          },
          "metadata": {
            "tags": []
          }
        },
        {
          "output_type": "stream",
          "text": [
            "\n"
          ],
          "name": "stdout"
        },
        {
          "output_type": "display_data",
          "data": {
            "image/png": "[encoded data removed]",
            "text/plain": [
              "<Figure size 432x288 with 1 Axes>"
            ]
          },
          "metadata": {
            "tags": []
          }
        },
        {
          "output_type": "display_data",
          "data": {
            "image/png": "[encoded data removed]",
            "text/plain": [
              "<Figure size 432x288 with 1 Axes>"
            ]
          },
          "metadata": {
            "tags": []
          }
        }
      ]
    },
    {
      "cell_type": "markdown",
      "metadata": {
        "id": "_k5oGOvh918a",
        "colab_type": "text"
      },
      "source": [
        "**Glove word embedding**\n",
        "\n",
        "Loading glove pre-trained model from **file_path+'glove.840B.300d.txt'**"
      ]
    },
    {
      "cell_type": "code",
      "metadata": {
        "id": "3PjMBUHC99wS",
        "colab_type": "code",
        "colab": {}
      },
      "source": [
        "def loadGlove(location):\n",
        "    embedding_model = {}\n",
        "    f = open(location, encoding=\"utf8\")\n",
        "    for line in f:\n",
        "        values = line.split()\n",
        "        word = ''.join(values[:-300])\n",
        "        word_vectors_300d = np.asarray(values[-300:], dtype='float32')\n",
        "        embedding_model[word] = word_vectors_300d\n",
        "    f.close()\n",
        "    return embedding_model"
      ],
      "execution_count": 0,
      "outputs": []
    },
    {
      "cell_type": "code",
      "metadata": {
        "id": "AaLhTTIX-Nth",
        "colab_type": "code",
        "colab": {}
      },
      "source": [
        "gloveFile = file_path+'glove.840B.300d.txt'\n",
        "model = loadGlove(gloveFile)"
      ],
      "execution_count": 0,
      "outputs": []
    },
    {
      "cell_type": "markdown",
      "metadata": {
        "id": "m4OTA2zZ-VcY",
        "colab_type": "text"
      },
      "source": [
        "**Smooth Inverse Frequency Calculation**\n"
      ]
    },
    {
      "cell_type": "code",
      "metadata": {
        "id": "vx1r-96D-PBg",
        "colab_type": "code",
        "colab": {}
      },
      "source": [
        "def count_word_freq(document):\n",
        "    return Counter(itertools.chain(*document))\n",
        "\n",
        "def convert_sentence_to_vec(sent_list_tokenized, model, a = 1e-3):\n",
        "    try:\n",
        "        word_freq = count_word_freq(sent_list_tokenized)\n",
        "        sentence_vec=[]\n",
        "        for sentence in sent_list_tokenized:\n",
        "            vectors = np.zeros(300)\n",
        "            sent_length = len(sentence)\n",
        "            for word in sentence:\n",
        "                freq = word_freq[word]\n",
        "                denominator = a + freq\n",
        "                val = a / denominator # smooth inverse frequency, SIF\n",
        "            try:\n",
        "                vectors = np.add(vectors, np.multiply(val, model[word])) # vectors += sif * word_vector\n",
        "            except Exception as e:\n",
        "                pass\n",
        "            vectors = np.divide(vectors, sent_length) # weighted average\n",
        "            sentence_vec.append(vectors)\n",
        "    except Exception as e:\n",
        "           print(\"Exception in sentence embedding\")\n",
        "    return sentence_vec"
      ],
      "execution_count": 0,
      "outputs": []
    },
    {
      "cell_type": "markdown",
      "metadata": {
        "id": "3GC4JLtN_mE6",
        "colab_type": "text"
      },
      "source": [
        "**Pre-processing**"
      ]
    },
    {
      "cell_type": "code",
      "metadata": {
        "id": "EH8r7JZk_rS8",
        "colab_type": "code",
        "colab": {}
      },
      "source": [
        "  \n",
        "lemmatizer = WordNetLemmatizer() \n",
        "def text_to_wordlist(text, remove_stopwords=False, stem_words=False, lemma = False):\n",
        "    # Clean the text, with the option to remove stopwords and to stem words.\n",
        "    \n",
        "    # Convert words to lower case and split them\n",
        "    text = text.lower().split()\n",
        "\n",
        "    # Optionally, remove stop words\n",
        "    if remove_stopwords:\n",
        "        stops = set(stopwords.words(\"english\"))\n",
        "        text = [w for w in text if not w in stops]\n",
        "    \n",
        "    text = \" \".join(text)\n",
        "    # print('before:'+text)\n",
        "\n",
        "    # # Clean the text\n",
        "    # text = re.sub(r\"[^A-Za-z0-9^,!.\\/'+-=]\", \" \", text)\n",
        "    # text = re.sub(r\"what's\", \"what is \", text)\n",
        "    # text = re.sub(r\"\\'s\", \" \", text)\n",
        "    # text = re.sub(r\"\\'ve\", \" have \", text)\n",
        "    # text = re.sub(r\"can't\", \"cannot \", text)\n",
        "    # text = re.sub(r\"n't\", \" not \", text)\n",
        "    # text = re.sub(r\"i'm\", \"i am \", text)\n",
        "    # text = re.sub(r\"\\'re\", \" are \", text)\n",
        "    # text = re.sub(r\"\\'d\", \" would \", text)\n",
        "    # text = re.sub(r\"\\'ll\", \" will \", text)\n",
        "    # text = re.sub(r\",\", \" \", text)\n",
        "    # text = re.sub(r\"\\.\", \" \", text)\n",
        "    # text = re.sub(r\"!\", \" ! \", text)\n",
        "    # text = re.sub(r\"\\/\", \" \", text)\n",
        "    # text = re.sub(r\"\\^\", \" ^ \", text)\n",
        "    # text = re.sub(r\"\\+\", \" + \", text)\n",
        "    # text = re.sub(r\"\\-\", \" - \", text)\n",
        "    # text = re.sub(r\"\\=\", \" = \", text)\n",
        "    # text = re.sub(r\"'\", \" \", text)\n",
        "    # text = re.sub(r\"(\\d+)(k)\", r\"\\g<1>000\", text)\n",
        "    # text = re.sub(r\":\", \" : \", text)\n",
        "    # text = re.sub(r\" e g \", \" eg \", text)\n",
        "    # text = re.sub(r\" b g \", \" bg \", text)\n",
        "    # text = re.sub(r\" u s \", \" american \", text)\n",
        "    # text = re.sub(r\"\\0s\", \"0\", text)\n",
        "    # text = re.sub(r\" 9 11 \", \"911\", text)\n",
        "    # text = re.sub(r\"e - mail\", \"email\", text)\n",
        "    # text = re.sub(r\"j k\", \"jk\", text)\n",
        "    # text = re.sub(r\"\\s{2,}\", \" \", text)\n",
        "    # print('After:'+text)\n",
        "\n",
        "    # Optionally, shorten words to their stems\n",
        "    if stem_words:\n",
        "        text = text.split()\n",
        "        stemmer = SnowballStemmer('english')\n",
        "        stemmed_words = [stemmer.stem(word) for word in text]\n",
        "        text = \" \".join(stemmed_words)\n",
        "    \n",
        "    # Optionally, shorten words to their lemmas\n",
        "    if lemma:\n",
        "        text = text.split()\n",
        "        lemma_words = [lemmatizer.lemmatize(word) for word in text]\n",
        "        #print('lemmas'+str(lemma_words))\n",
        "        text = \" \".join(lemma_words)\n",
        "    #print(text)\n",
        "\n",
        "    # Return a list of words\n",
        "    return(text)"
      ],
      "execution_count": 0,
      "outputs": []
    },
    {
      "cell_type": "markdown",
      "metadata": {
        "id": "MVyjNay8_TrG",
        "colab_type": "text"
      },
      "source": [
        "**Load Data**"
      ]
    },
    {
      "cell_type": "code",
      "metadata": {
        "id": "vaY06IuS_JOI",
        "colab_type": "code",
        "colab": {}
      },
      "source": [
        "output_pd = pd.DataFrame()\n",
        "output_array = []\n",
        "for each_news_article in tqdm(news_summary[\"ARTICLE\"]):\n",
        "  each_news_sentences = []\n",
        "  nlp = spacy.load('en')\n",
        "\n",
        "  tokens = nlp(each_news_article)\n",
        "  for sent in tokens.sents:\n",
        "      each_news_sentences.append(sent.string.strip())\n",
        "\n",
        "\n",
        "  sent_list=[]\n",
        "  for each_sent in each_news_sentences:\n",
        "      try:\n",
        "          sent_list.append(word_tokenize(text_to_wordlist(each_sent,False,False,False)))\n",
        "      except:\n",
        "        print(\"error\"+each_sent)\n",
        "  similarity_list=[]\n",
        "  sent_emb = convert_sentence_to_vec(sent_list,model)\n",
        "  all_sentence=[]\n",
        "  for word in (sent_emb):\n",
        "      current_sentence =[]\n",
        "      for w in sent_emb:\n",
        "          cosine = scipy.spatial.distance.cosine(word, w)\n",
        "          current_sentence.append(round((1-cosine),2))\n",
        "      all_sentence.append(current_sentence)\n",
        "\n",
        "  #print(all_sentence)\n",
        "  a = np.array(all_sentence, dtype='float32')\n",
        "  # similarity_list = a.sum(axis=0)\n",
        "  similarityScore = csr_matrix(np.array(a))\n",
        "  rankedList=pagerank(similarityScore, p=0.85)\n",
        "  output_array.append(sortListOnSimilarity(each_news_sentences,rankedList))\n",
        "\n",
        "output_pd[\"OUR_SUMMARY\"] = output_array\n",
        "output_pd[\"ORIGINAL_SUMMARY\"] = news_summary[\"SUMMARY\"]\n",
        "\n",
        "\n",
        "sent_list=[]"
      ],
      "execution_count": 0,
      "outputs": []
    },
    {
      "cell_type": "markdown",
      "metadata": {
        "id": "h2qDweezxe3e",
        "colab_type": "text"
      },
      "source": [
        "**Performance of Skip-Thought vectors**"
      ]
    },
    {
      "cell_type": "code",
      "metadata": {
        "id": "dkVXpFOvAuHA",
        "colab_type": "code",
        "colab": {}
      },
      "source": [
        "# file_path = '/content/drive/My Drive/NLP_DATA/'\n",
        "out_summary = pd.read_csv(file_path + 'skipThoughtOutput.csv' , encoding='ISO-8859-1')\n",
        "output_pd = pd.DataFrame()\n",
        "output_pd[\"OUR_SUMMARY\"] = out_summary[\"OUR_SUMMARY\"]\n",
        "output_pd[\"ORIGINAL_SUMMARY\"] = news_summary[\"SUMMARY\"]"
      ],
      "execution_count": 0,
      "outputs": []
    },
    {
      "cell_type": "code",
      "metadata": {
        "id": "RzSo-983TlWP",
        "colab_type": "code",
        "outputId": "df46ab78-8e19-4006-acfa-09a9b31bdab6",
        "colab": {
          "base_uri": "https://localhost:8080/",
          "height": 590,
          "referenced_widgets": [
            "bc8398b83919412eab847ee8ba416d21",
            "78090d917ca949dca47fd8740ca59736",
            "326d8a29c9e04b7da2a3582f89a84d86",
            "3713eb1bb08342f492d7f773aff3ea7f",
            "62edae57864341cf9ab59d81767e77ce",
            "abe2421f56dd46fb9c9799085c914a9d",
            "aaa06c30206f4d419204bee9cd7be545",
            "deb079954f4c436cbacc144abcbf1c81"
          ]
        }
      },
      "source": [
        "runPerformanceMetric(output_pd)"
      ],
      "execution_count": 0,
      "outputs": [
        {
          "output_type": "display_data",
          "data": {
            "application/vnd.jupyter.widget-view+json": {
              "model_id": "bc8398b83919412eab847ee8ba416d21",
              "version_minor": 0,
              "version_major": 2
            },
            "text/plain": [
              "HBox(children=(IntProgress(value=0, max=2225), HTML(value='')))"
            ]
          },
          "metadata": {
            "tags": []
          }
        },
        {
          "output_type": "stream",
          "text": [
            "\n"
          ],
          "name": "stdout"
        },
        {
          "output_type": "display_data",
          "data": {
            "image/png": "[encoded data removed]",
            "text/plain": [
              "<Figure size 432x288 with 1 Axes>"
            ]
          },
          "metadata": {
            "tags": []
          }
        },
        {
          "output_type": "display_data",
          "data": {
            "image/png": "[encoded data removed]",
            "text/plain": [
              "<Figure size 432x288 with 1 Axes>"
            ]
          },
          "metadata": {
            "tags": []
          }
        }
      ]
    }
  ]
}